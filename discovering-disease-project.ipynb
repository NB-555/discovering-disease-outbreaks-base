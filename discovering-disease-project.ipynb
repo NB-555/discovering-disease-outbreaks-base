{
 "cells": [
  {
   "cell_type": "code",
   "execution_count": 16,
   "id": "82efa1a8",
   "metadata": {},
   "outputs": [
    {
     "name": "stdout",
     "output_type": "stream",
     "text": [
      "['zika outbreak hits miami', 'could zika reach new york city?', 'first case of zika in miami beach', 'mystery virus spreads in recife, brazil', 'dallas man comes down with case of zika', 'trinidad confirms first zika case', 'zika concerns are spreading in houston', 'geneve scientists battle to find cure', 'the cdc in atlanta is growing worried', 'zika infested monkeys in sao paulo']\n"
     ]
    }
   ],
   "source": [
    "# Load data\n",
    "\n",
    "import unidecode\n",
    "\n",
    "headlines = list()\n",
    "with open('data/headlines.txt') as f:\n",
    "    for line in f:\n",
    "        headline_norm = unidecode.unidecode(line[:-1].lower())  # remove accents with unidecode                                                            \n",
    "        headlines.append(headline_norm)                         # and newline character\n",
    "\n",
    "# Take a look at first 10 headlines\n",
    "        \n",
    "print(headlines[:10])"
   ]
  },
  {
   "cell_type": "code",
   "execution_count": 17,
   "id": "3f776867",
   "metadata": {},
   "outputs": [
    {
     "name": "stdout",
     "output_type": "stream",
     "text": [
      "Countries:  ['South Georgia and the South Sandwich Islands', 'United States Minor Outlying Islands', 'Bonaire, Saint Eustatius and Saba ', 'Heard Island and McDonald Islands', 'Democratic Republic of the Congo', 'Saint Vincent and the Grenadines', 'British Indian Ocean Territory', 'French Southern Territories', 'Saint Pierre and Miquelon', 'Central African Republic'] \n",
      "\n",
      "Cities:  ['Chak Two Hundred Forty-nine Thal Development Authority', 'Dolores Hidalgo Cuna de la Independencia Nacional', 'Ampliacion San Mateo (Colonia Solidaridad)', 'Licenciado Benito Juarez (Campo Gobierno)', 'Sant Pere, Santa Caterina i La Ribera', 'Palikir - National Government Center', 'Nanchital de Lazaro Cardenas del Rio', 'San Fernando del Valle de Catamarca', \"el Camp d'en Grassot i Gracia Nova\", 'San Martin Texmelucan de Labastida'] \n",
      "\n",
      "Accented City Names:  ['Khawr Fakkān', 'Shīnḏanḏ', 'Shibirghān', 'Sang-e Chārak', 'Aībak', 'Rustāq', 'Qarqīn', 'Qarāwul', 'Pul-e Khumrī', 'Paghmān'] \n",
      "\n",
      "Accented Country Names:  [] \n",
      "\n"
     ]
    }
   ],
   "source": [
    "# Create list of country and city names from geonamescache\n",
    "\n",
    "import geonamescache\n",
    "\n",
    "gc = geonamescache.GeonamesCache()\n",
    "\n",
    "countries = []\n",
    "countries_dic = gc.get_countries()\n",
    "\n",
    "for key in countries_dic:\n",
    "    countries.append(unidecode.unidecode(countries_dic[key]['name']))\n",
    "    \n",
    "\n",
    "countries.sort(key = len, reverse = True) # sort longest to shortest to avoid regex finding partial match\n",
    "\n",
    "# Dictionary mapping unaccented country name to accented country name\n",
    "\n",
    "country_accented_names = {unidecode.unidecode(country['name']): country['name'] \n",
    "                          for country in countries_dic.values() \n",
    "                          if country['name'] != unidecode.unidecode(country['name'])}\n",
    "\n",
    "cities = []\n",
    "cities_dic = gc.get_cities() \n",
    "\n",
    "for key in cities_dic:\n",
    "    cities.append(unidecode.unidecode(cities_dic[key]['name']))\n",
    "    \n",
    "cities.sort(key = len, reverse = True) # sort longest to shortest to avoid regex finding partial match\n",
    "\n",
    "# Dictionary mapping unaccented city name to accented city name\n",
    "\n",
    "city_accented_names = {unidecode.unidecode(city['name']): city['name'] \n",
    "                       for city in cities_dic.values() \n",
    "                       if city['name'] != unidecode.unidecode(city['name'])}\n",
    "\n",
    "\n",
    "# Take a look at first ten cities, countries, and accented names\n",
    "\n",
    "print('Countries: ', countries[:10], '\\n')\n",
    "print('Cities: ', cities[:10], '\\n')\n",
    "print('Accented City Names: ', list(city_accented_names.values())[:10], '\\n')\n",
    "print('Accented Country Names: ', list(country_accented_names.values())[:10], '\\n')\n"
   ]
  },
  {
   "cell_type": "code",
   "execution_count": 18,
   "id": "bed4189c",
   "metadata": {},
   "outputs": [
    {
     "name": "stdout",
     "output_type": "stream",
     "text": [
      "Country regex:  \\bSouth\\ Georgia\\ and\\ the\\ South\\ Sandwich\\ Islands\\b|\\bUnited\\ States\\ Minor\\ Outlying\\ Islands\\b|\n",
      "City regex:  \\bChak\\ Two\\ Hundred\\ Forty\\-nine\\ Thal\\ Development\\ Authority\\b|\\bDolores\\ Hidalgo\\ Cuna\\ de\\ la\\ \n"
     ]
    }
   ],
   "source": [
    "# Check headlines for city and country\n",
    "\n",
    "import re\n",
    "import pandas as pd\n",
    "\n",
    "# Create regex for countries \n",
    "country_reg_ex = ''\n",
    "for place in countries:\n",
    "    country_reg_ex += r'\\b' + re.escape(place) +r'\\b|' #\\b to match entire place name\n",
    "    \n",
    "country_reg_ex = country_reg_ex[:-1]\n",
    "\n",
    "# Look at first 100 characters in country_reg_ex\n",
    "\n",
    "print('Country regex: ', country_reg_ex[:100])\n",
    "\n",
    "country_reg_ex = re.compile(country_reg_ex, re.I)\n",
    "\n",
    "# Create regex for countries \n",
    "city_reg_ex = r''\n",
    "for place in cities:\n",
    "    city_reg_ex +=r'\\b' + re.escape(place) + r'\\b|' #\\b to match entire place name\n",
    "    \n",
    "city_reg_ex = city_reg_ex[:-1]+r'\\b'\n",
    "\n",
    "# Look at first 100 characters in city_reg_ex\n",
    "print('City regex: ', city_reg_ex[:100])\n",
    "\n",
    "city_reg_ex = re.compile(city_reg_ex,re.I)\n",
    "\n",
    "headline_place_data = [['headline','city', 'country']]\n",
    "\n",
    "for headline in headlines:\n",
    "    countries_match = country_reg_ex.findall(headline)\n",
    "    cities_match = city_reg_ex.findall(headline)\n",
    "    if countries_match == []:\n",
    "        country = ''\n",
    "    else:\n",
    "        countries_match.sort(key = len, reverse = True)\n",
    "        country = countries_match[0].title()\n",
    "        \n",
    "    if cities_match == []:\n",
    "        city = ''\n",
    "    else:\n",
    "        cities_match.sort(key = len, reverse = True)\n",
    "        city = cities_match[0].title()\n",
    "    headline_place_data.extend([[headline, city, country]])\n",
    "\n",
    "headline_df = pd.DataFrame(headline_place_data[1:], columns=headline_place_data[0])"
   ]
  },
  {
   "cell_type": "code",
   "execution_count": 19,
   "id": "11501405",
   "metadata": {},
   "outputs": [
    {
     "data": {
      "text/html": [
       "<div>\n",
       "<style scoped>\n",
       "    .dataframe tbody tr th:only-of-type {\n",
       "        vertical-align: middle;\n",
       "    }\n",
       "\n",
       "    .dataframe tbody tr th {\n",
       "        vertical-align: top;\n",
       "    }\n",
       "\n",
       "    .dataframe thead th {\n",
       "        text-align: right;\n",
       "    }\n",
       "</style>\n",
       "<table border=\"1\" class=\"dataframe\">\n",
       "  <thead>\n",
       "    <tr style=\"text-align: right;\">\n",
       "      <th></th>\n",
       "      <th>headline</th>\n",
       "      <th>country</th>\n",
       "    </tr>\n",
       "    <tr>\n",
       "      <th>city</th>\n",
       "      <th></th>\n",
       "      <th></th>\n",
       "    </tr>\n",
       "  </thead>\n",
       "  <tbody>\n",
       "    <tr>\n",
       "      <th></th>\n",
       "      <td>31</td>\n",
       "      <td>31</td>\n",
       "    </tr>\n",
       "    <tr>\n",
       "      <th>Of</th>\n",
       "      <td>6</td>\n",
       "      <td>6</td>\n",
       "    </tr>\n",
       "    <tr>\n",
       "      <th>Monroe</th>\n",
       "      <td>4</td>\n",
       "      <td>4</td>\n",
       "    </tr>\n",
       "    <tr>\n",
       "      <th>Miami</th>\n",
       "      <td>4</td>\n",
       "      <td>4</td>\n",
       "    </tr>\n",
       "    <tr>\n",
       "      <th>Madrid</th>\n",
       "      <td>4</td>\n",
       "      <td>4</td>\n",
       "    </tr>\n",
       "  </tbody>\n",
       "</table>\n",
       "</div>"
      ],
      "text/plain": [
       "        headline  country\n",
       "city                     \n",
       "              31       31\n",
       "Of             6        6\n",
       "Monroe         4        4\n",
       "Miami          4        4\n",
       "Madrid         4        4"
      ]
     },
     "execution_count": 19,
     "metadata": {},
     "output_type": "execute_result"
    }
   ],
   "source": [
    "# Check for common city names\n",
    "headline_df.groupby('city').count().sort_values('headline', ascending=False).head(5) \n",
    "# shows cities incorrectly detected as 'hit', 'of' and 'come'"
   ]
  },
  {
   "cell_type": "code",
   "execution_count": 21,
   "id": "260cad18",
   "metadata": {},
   "outputs": [],
   "source": [
    "# Remove cities detected as 'hit', 'of' and 'come'\n",
    "mask =(headline_df['city'] == 'Hit') | (headline_df['city'] =='Of' )|  (headline_df['city'] =='Come')\n",
    "\n",
    "headline_df.loc[mask, 'city'] = ''"
   ]
  },
  {
   "cell_type": "code",
   "execution_count": 22,
   "id": "f48f2aa2",
   "metadata": {},
   "outputs": [],
   "source": [
    "def find_largest_city_pop(city_dict):\n",
    "    '''Returns geonameid of city in city_dict with largest population\n",
    "    city_dict: subset of GeoNamesCache.get_cities()'''\n",
    "    max_pop = -1\n",
    "    if city_dict == []:\n",
    "        return ''\n",
    "    for city in city_dict:\n",
    "        for key in city:\n",
    "            if city[key]['population'] > max_pop:\n",
    "                largest = city[key]['geonameid']\n",
    "    return str(largest)\n",
    "\n",
    "def restore_accent(city):\n",
    "    if city in city_accented_names.keys():\n",
    "        return city_accented_names[city]\n",
    "    return city\n",
    "\n",
    "def get_lon(geonameid):\n",
    "    '''Returns longitude of city in gc.get_cities with geonameid = geonameid'''\n",
    "    if geonameid == '':\n",
    "        return ''                            \n",
    "    return gc.get_cities()[geonameid]['longitude']\n",
    "\n",
    "def get_lat(geonameid):\n",
    "    '''Returns latitude of city in gc.get_cities with geonameid = geonameid'''\n",
    "    if geonameid == '':\n",
    "        return ''                            \n",
    "    return gc.get_cities()[geonameid]['latitude']\n",
    "\n",
    "def get_countrycode(geonameid):\n",
    "    '''Returns countrycode in gc.get_cities with geonameid = geonameid'''\n",
    "    if geonameid == '':\n",
    "        return ''                            \n",
    "    return gc.get_cities()[geonameid]['countrycode']\n",
    "\n",
    "# Create long, lat, country code columns given city\n",
    "\n",
    "mask = headline_df['city'].map(gc.get_cities_by_name).str.len() == 0\n",
    "headline_df.loc[mask, 'city'] = headline_df.loc[mask, 'city'].map(restore_accent)\n",
    "\n",
    "headline_df['longitude'] = headline_df['city'].map(gc.get_cities_by_name).map(find_largest_city_pop).map(get_lon)\n",
    "headline_df['latitude'] = headline_df['city'].map(gc.get_cities_by_name).map(find_largest_city_pop).map(get_lat)\n",
    "headline_df['country code'] = headline_df['city'].map(gc.get_cities_by_name).map(find_largest_city_pop).map(get_countrycode)\n",
    "\n",
    "headline_df = headline_df[headline_df['longitude']!='']"
   ]
  },
  {
   "cell_type": "code",
   "execution_count": 23,
   "id": "25f8edc0",
   "metadata": {},
   "outputs": [
    {
     "data": {
      "text/html": [
       "<div>\n",
       "<style scoped>\n",
       "    .dataframe tbody tr th:only-of-type {\n",
       "        vertical-align: middle;\n",
       "    }\n",
       "\n",
       "    .dataframe tbody tr th {\n",
       "        vertical-align: top;\n",
       "    }\n",
       "\n",
       "    .dataframe thead th {\n",
       "        text-align: right;\n",
       "    }\n",
       "</style>\n",
       "<table border=\"1\" class=\"dataframe\">\n",
       "  <thead>\n",
       "    <tr style=\"text-align: right;\">\n",
       "      <th></th>\n",
       "      <th>headline</th>\n",
       "      <th>city</th>\n",
       "      <th>country</th>\n",
       "      <th>longitude</th>\n",
       "      <th>latitude</th>\n",
       "      <th>country code</th>\n",
       "    </tr>\n",
       "  </thead>\n",
       "  <tbody>\n",
       "    <tr>\n",
       "      <th>count</th>\n",
       "      <td>607</td>\n",
       "      <td>607</td>\n",
       "      <td>607</td>\n",
       "      <td>607.00000</td>\n",
       "      <td>607.00000</td>\n",
       "      <td>607</td>\n",
       "    </tr>\n",
       "    <tr>\n",
       "      <th>unique</th>\n",
       "      <td>605</td>\n",
       "      <td>572</td>\n",
       "      <td>11</td>\n",
       "      <td>572.00000</td>\n",
       "      <td>572.00000</td>\n",
       "      <td>88</td>\n",
       "    </tr>\n",
       "    <tr>\n",
       "      <th>top</th>\n",
       "      <td>spanish flu outbreak in lisbon</td>\n",
       "      <td>Monroe</td>\n",
       "      <td></td>\n",
       "      <td>-3.70256</td>\n",
       "      <td>25.77427</td>\n",
       "      <td>US</td>\n",
       "    </tr>\n",
       "    <tr>\n",
       "      <th>freq</th>\n",
       "      <td>2</td>\n",
       "      <td>4</td>\n",
       "      <td>592</td>\n",
       "      <td>4.00000</td>\n",
       "      <td>4.00000</td>\n",
       "      <td>346</td>\n",
       "    </tr>\n",
       "  </tbody>\n",
       "</table>\n",
       "</div>"
      ],
      "text/plain": [
       "                              headline    city country  longitude   latitude  \\\n",
       "count                              607     607     607  607.00000  607.00000   \n",
       "unique                             605     572      11  572.00000  572.00000   \n",
       "top     spanish flu outbreak in lisbon  Monroe           -3.70256   25.77427   \n",
       "freq                                 2       4     592    4.00000    4.00000   \n",
       "\n",
       "       country code  \n",
       "count           607  \n",
       "unique           88  \n",
       "top              US  \n",
       "freq            346  "
      ]
     },
     "execution_count": 23,
     "metadata": {},
     "output_type": "execute_result"
    }
   ],
   "source": [
    "# Check basic counts\n",
    "headline_df.describe()"
   ]
  },
  {
   "cell_type": "code",
   "execution_count": 24,
   "id": "a917165c",
   "metadata": {},
   "outputs": [],
   "source": [
    "# Remove Duplicate headlines:\n",
    "dup_rows = [headline_df[headline_df['headline'] == 'spanish flu spreading through madrid'].index[0],\n",
    "            headline_df[headline_df['headline'] == 'spanish flu outbreak in lisbon'].index[0]]\n",
    "headline_df = headline_df.drop(dup_rows)"
   ]
  },
  {
   "cell_type": "code",
   "execution_count": 50,
   "id": "4defd214",
   "metadata": {},
   "outputs": [
    {
     "data": {
      "text/plain": [
       "Text(0.5, 1.0, 'Distribution of Disease')"
      ]
     },
     "execution_count": 50,
     "metadata": {},
     "output_type": "execute_result"
    },
    {
     "data": {
      "image/png": "[encoded data removed]",
      "text/plain": [
       "<Figure size 750x750 with 1 Axes>"
      ]
     },
     "metadata": {},
     "output_type": "display_data"
    }
   ],
   "source": [
    "import matplotlib.pyplot as plt\n",
    "\n",
    "fig = plt.figure(figsize=(7.5, 7.5))\n",
    "\n",
    "ax = fig.add_axes([0.2, 0.17, 0.68, 0.7], aspect=2)\n",
    "ax.scatter(\n",
    "    x=headline_df['longitude'], y=headline_df['latitude'], s = 10)\n",
    "ax.set_title(\"Distribution of Disease\", fontsize=20, verticalalignment='bottom')\n"
   ]
  },
  {
   "cell_type": "code",
   "execution_count": 33,
   "id": "9c9fab16",
   "metadata": {},
   "outputs": [
    {
     "data": {
      "text/plain": [
       "count     605.00000\n",
       "unique    572.00000\n",
       "top       -80.19366\n",
       "freq        4.00000\n",
       "Name: longitude, dtype: float64"
      ]
     },
     "execution_count": 33,
     "metadata": {},
     "output_type": "execute_result"
    }
   ],
   "source": [
    "headline_df['longitude'].describe()"
   ]
  },
  {
   "cell_type": "code",
   "execution_count": null,
   "id": "2514c5be",
   "metadata": {},
   "outputs": [],
   "source": []
  }
 ],
 "metadata": {
  "kernelspec": {
   "display_name": "Python 3 (ipykernel)",
   "language": "python",
   "name": "python3"
  },
  "language_info": {
   "codemirror_mode": {
    "name": "ipython",
    "version": 3
   },
   "file_extension": ".py",
   "mimetype": "text/x-python",
   "name": "python",
   "nbconvert_exporter": "python",
   "pygments_lexer": "ipython3",
   "version": "3.7.12"
  }
 },
 "nbformat": 4,
 "nbformat_minor": 5
}
