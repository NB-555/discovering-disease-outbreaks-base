{
 "cells": [
  {
   "cell_type": "markdown",
   "id": "36de4b2a",
   "metadata": {},
   "source": [
    "## Detecting Disease Outbreaks\n",
    "\n",
    "Our analysis of around 600 headlines from newspapers around the world suggests multiple Zika outbreaks in Asia and the Americas.\n",
    "\n",
    "![](zika_outbreaks_map.png)"
   ]
  }
 ],
 "metadata": {
  "kernelspec": {
   "display_name": "base",
   "language": "python",
   "name": "base"
  },
  "language_info": {
   "codemirror_mode": {
    "name": "ipython",
    "version": 3
   },
   "file_extension": ".py",
   "mimetype": "text/x-python",
   "name": "python",
   "nbconvert_exporter": "python",
   "pygments_lexer": "ipython3",
   "version": "3.7.12"
  },
  "latex_metadata": {
   "author": "Nicholas Bedard",
   "data": "",
   "title": "Detecting Disease Outbreaks"
  }
 },
 "nbformat": 4,
 "nbformat_minor": 5
}
